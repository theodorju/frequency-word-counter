{
 "cells": [
  {
   "cell_type": "markdown",
   "metadata": {
    "dc": {
     "key": "3"
    },
    "deletable": true,
    "editable": true,
    "run_control": {
     "frozen": true
    },
    "tags": [
     "context"
    ]
   },
   "source": [
    "## General Information\n",
    "<p><img style=\"float: right ; margin: 5px 20px 5px 10px; width: 20%\" src=\"images/american-gods.jpeg\"> </p>\n",
    "<p>This notebook is based on Datacamp's Frequencey Counter Notebook and explores what are the most frequent words in Neil Gaiman's novel, American Gods, and how often do they occur?</p>\n",
    "<p>This notebook: \n",
    "    <ul>\n",
    "        <li>Scrapes the novel <em>American Gods</em> from the website <a href=\"https://archive.org/\">Internet Archive</a> using the Python package <code>requests</code>.</li>\n",
    "        <li>Extract words from this web data using <code>BeautifulSoup</code>.</li>\n",
    "        <li>Analyzes the distribution of words using the Natural Language ToolKit (<code>nltk</code>) and <code>Counter</code>.</li>\n",
    "    </ul>\n",
    "</p>"
   ]
  },
  {
   "cell_type": "code",
   "execution_count": 1,
   "metadata": {
    "dc": {
     "key": "3"
    },
    "tags": [
     "sample_code"
    ]
   },
   "outputs": [
    {
     "name": "stderr",
     "output_type": "stream",
     "text": [
      "[nltk_data] Downloading package stopwords to\n",
      "[nltk_data]     C:\\Users\\theo_\\AppData\\Roaming\\nltk_data...\n",
      "[nltk_data]   Package stopwords is already up-to-date!\n"
     ]
    },
    {
     "data": {
      "text/plain": [
       "'<!DOCTYPE html>\\n<html lang=\"en\">\\n<!-- __ _ _ _ __| |_ (_)__ _____\\n    / _` | \\'_/ _| \\' \\\\| |\\\\ V / -_)\\n    \\\\__,_|_| \\\\__|_||_|_| \\\\_/\\\\___| -->\\n  <head data-release=40f8774b>\\n    <title>Full text of &quot;American Gods Neil Gaiman 1&quot;</title>\\n\\n          <meta name=\"viewport\" content=\"width=device-width, initial-scale=1.0\"/>\\n    \\n        <meta name=\"google-site-verification\" content=\"Q2YSouphkkgHkFNP7FgAkc4TmBs1Gmag3uGNndb53B8\" />\\n    <meta name=\"google-site-verification\" content=\"bpjKvUvsX0lxfmjg19TLblckWkDpnptZEYsBntApxUk\" />\\n\\n    <script>\\n/* @licstart  The following is the entire license notice for the\\n * JavaScript code in this page.\\n *\\n * This program is free software: you can redistribute it and/or modify\\n * it under the terms of the GNU Affero General Public License as published by\\n * the Free Software Foundation, either version 3 of the License, or\\n * (at your option) any later version.\\n *\\n * This program is distributed in the hope that it will be useful,\\n * but WITHOUT ANY WARRANTY; without even the implied warranty of\\n * MERCHANTABILITY or FITNESS FOR A PARTICULAR PURPOSE.  See the\\n * GNU Affero General Public License for more details.\\n *\\n * You should have received a copy of the GNU Affero General Public License\\n * along with this program.  If not, see <http://www.gnu.org/licenses/>.\\n *\\n * @licend  The above is the entire license notice\\n * for the JavaScript code in this page.\\n */\\n</script>\\n              <script>window.archive_setup=[]</script>\\n        <meta charset=\"UTF-8\">\\n    <script src=\"//archive.org/ext/build/npm/jquery/dist/jquery.min.js?v1.12.4\" type=\"text/javascript\"></script>\\n    <script src=\"//archive.org/ext/build/npm/jquery-ui-dist/jquery-ui.min.js?v1.12.1\" type=\"text/javascript\"></script>\\n    <script src=\"//archive.org/ext/build/npm/bootstrap/dist/js/bootstrap.min.js?v3.0.0\" type=\"text/javascript\"></script>\\n    <script src=\"//archive.org/ext/components/npm/clipboard/dist/clipboard.js?v=40f8774b\" type=\"text/javascript\"></script>\\n    <script src='"
      ]
     },
     "execution_count": 1,
     "metadata": {},
     "output_type": "execute_result"
    }
   ],
   "source": [
    "# Importing requests, BeautifulSoup, nltk, and Counter\n",
    "import requests\n",
    "import nltk\n",
    "from bs4 import BeautifulSoup\n",
    "from collections import Counter\n",
    "\n",
    "# Download stopowords that will be used later\n",
    "nltk.download('stopwords')\n",
    "\n",
    "# Getting the American Gods HTML from Internet Archive\n",
    "r = requests.get(\"https://archive.org/stream/AmericanGodsNeilGaiman1/American_Gods_-_Neil_Gaiman%20_1__djvu.txt\")\n",
    "\n",
    "# Setting the correct text encoding of the HTML page\n",
    "r.encoding = 'utf-8'\n",
    "\n",
    "# Extracting the HTML from the request object, html is of type string\n",
    "html = r.text\n",
    "\n",
    "# Printing the first 2000 characters in html\n",
    "html[:2000]"
   ]
  },
  {
   "cell_type": "markdown",
   "metadata": {
    "dc": {
     "key": "17"
    },
    "deletable": true,
    "run_control": {
     "frozen": true
    },
    "tags": [
     "context"
    ]
   },
   "source": [
    "## Extract the text from the HTML\n",
    "<p>Process this HTML to extract the text of the novel using the package <code>BeautifulSoup</code>.</p>"
   ]
  },
  {
   "cell_type": "code",
   "execution_count": 2,
   "metadata": {
    "dc": {
     "key": "17"
    },
    "tags": [
     "sample_code"
    ]
   },
   "outputs": [
    {
     "name": "stdout",
     "output_type": "stream",
     "text": [
      "Text of the novel begins at index: 7925 and ends at index: 1043269\n"
     ]
    }
   ],
   "source": [
    "# Creating a BeautifulSoup object from the HTML\n",
    "soup = BeautifulSoup(html, 'html.parser')\n",
    "\n",
    "# Getting the text out of the soup\n",
    "text = soup.get_text()\n",
    "\n",
    "# Find where the text begins\n",
    "start = text.find(\"One question that has\")\n",
    "\n",
    "# Find where the text ends\n",
    "end = text.find(\"Acknowle dgme nts \")\n",
    "print(\"Text of the novel begins at index: {} and ends at index: {}\".format(start, end))\n",
    "\n",
    "novel = text[start:end]"
   ]
  },
  {
   "cell_type": "markdown",
   "metadata": {},
   "source": [
    "<p>To verify, print a section from the beginning and a section from the ending of the novel</p>"
   ]
  },
  {
   "cell_type": "code",
   "execution_count": 3,
   "metadata": {},
   "outputs": [
    {
     "name": "stdout",
     "output_type": "stream",
     "text": [
      "BEGINNING: \n",
      "One question that has \n",
      "always \n",
      "ENDING: \n",
      "\n",
      "\n",
      "and he kept on walking. \n",
      "\n",
      "\n",
      "\n",
      "\n"
     ]
    }
   ],
   "source": [
    "beginning = novel[:30]\n",
    "ending = novel[-30:]\n",
    "\n",
    "print(\"BEGINNING: \\n{}\".format(beginning))\n",
    "print(\"ENDING: \\n{}\".format(ending))"
   ]
  },
  {
   "cell_type": "markdown",
   "metadata": {
    "dc": {
     "key": "24"
    },
    "deletable": true,
    "run_control": {
     "frozen": true
    },
    "tags": [
     "context"
    ]
   },
   "source": [
    "## Extract the words\n",
    "<p>Using <code>nltk</code> – the Natural Language Toolkit, tokenize the text by remove everything that isn't a word (whitespace, punctuation, etc.) and then split the text into a list of words and make them all lowercase.</p>"
   ]
  },
  {
   "cell_type": "code",
   "execution_count": 4,
   "metadata": {
    "dc": {
     "key": "24"
    },
    "tags": [
     "sample_code"
    ]
   },
   "outputs": [
    {
     "name": "stdout",
     "output_type": "stream",
     "text": [
      "First 8 tokens: ['One', 'question', 'that', 'has', 'always', 'intrigued', 'me', 'is']\n",
      "First 8 words: ['one', 'question', 'that', 'has', 'always', 'intrigued', 'me', 'is']\n"
     ]
    }
   ],
   "source": [
    "# Creating a tokenizer\n",
    "tokenizer = nltk.tokenize.RegexpTokenizer('\\w+')\n",
    "\n",
    "# Tokenizing the text\n",
    "tokens = tokenizer.tokenize(novel)\n",
    "\n",
    "# Printing out the first 8 words / tokens \n",
    "print(\"First 8 tokens: {}\".format(tokens[:8]))\n",
    "\n",
    "# Create a list called words containing all tokens transformed to lower-case\n",
    "words = [i.lower() for i in tokens]\n",
    "\n",
    "# Printing out the first 8 words / tokens \n",
    "print(\"First 8 words: {}\".format(words[:8]))"
   ]
  },
  {
   "cell_type": "markdown",
   "metadata": {
    "dc": {
     "key": "38"
    },
    "deletable": true,
    "run_control": {
     "frozen": true
    },
    "tags": [
     "context"
    ]
   },
   "source": [
    "## Handling stop words\n",
    "<p>It is common practice to remove words that appear a lot in the English language such as 'the', 'of' and 'a' because they're not so interesting. Such words are known as <em>stop words</em>. The package <code>nltk</code> includes a good list of stop words in English.</p>"
   ]
  },
  {
   "cell_type": "code",
   "execution_count": 5,
   "metadata": {
    "dc": {
     "key": "38"
    },
    "tags": [
     "sample_code"
    ]
   },
   "outputs": [
    {
     "name": "stdout",
     "output_type": "stream",
     "text": [
      "First 8 words after removal of stopwords: ['one', 'question', 'always', 'intrigued', 'happens', 'demonic', 'beings', 'immigrants']\n"
     ]
    }
   ],
   "source": [
    "from nltk.corpus import stopwords\n",
    "\n",
    "# Getting the English stop words from nltk\n",
    "sw = stopwords.words('english')\n",
    "\n",
    "# Printing out the first eight stop words\n",
    "sw[:8]\n",
    "\n",
    "# Create a list words_prc containing all words that are in words but not in sw\n",
    "words_prc = [i for i in words if i not in sw]\n",
    "\n",
    "# Printing the first 8 words_ns to check that stop words are gone\n",
    "print(\"First 8 words after removal of stopwords: {}\".format(words_prc[:8]))"
   ]
  },
  {
   "cell_type": "markdown",
   "metadata": {
    "dc": {
     "key": "52"
    },
    "deletable": true,
    "run_control": {
     "frozen": true
    },
    "tags": [
     "context"
    ]
   },
   "source": [
    "## Most frequent words:"
   ]
  },
  {
   "cell_type": "code",
   "execution_count": 6,
   "metadata": {
    "dc": {
     "key": "52"
    },
    "tags": [
     "sample_code"
    ]
   },
   "outputs": [
    {
     "data": {
      "text/plain": [
       "[('said', 2050),\n",
       " ('shadow', 2032),\n",
       " ('back', 595),\n",
       " ('like', 583),\n",
       " ('one', 548),\n",
       " ('man', 541),\n",
       " ('wednesday', 520),\n",
       " ('could', 455),\n",
       " ('would', 432),\n",
       " ('know', 361),\n",
       " ('looked', 335),\n",
       " ('old', 326),\n",
       " ('hand', 314),\n",
       " ('time', 309),\n",
       " ('good', 289),\n",
       " ('head', 287),\n",
       " ('people', 286),\n",
       " ('see', 278),\n",
       " ('got', 276),\n",
       " ('walked', 265)]"
      ]
     },
     "execution_count": 6,
     "metadata": {},
     "output_type": "execute_result"
    }
   ],
   "source": [
    "# Initialize a Counter object from our processed list of words\n",
    "count = Counter(words_prc)\n",
    "\n",
    "# Store 10 most common words and their counts as top_ten\n",
    "top_ten = count.most_common(20)\n",
    "\n",
    "# Print the top ten words and their counts\n",
    "top_ten"
   ]
  },
  {
   "cell_type": "markdown",
   "metadata": {},
   "source": [
    "### Visualizing the results"
   ]
  },
  {
   "cell_type": "code",
   "execution_count": 7,
   "metadata": {},
   "outputs": [],
   "source": [
    "import matplotlib.pyplot as plt\n",
    "%matplotlib inline"
   ]
  },
  {
   "cell_type": "code",
   "execution_count": 8,
   "metadata": {},
   "outputs": [],
   "source": [
    "# Get the top fifty words\n",
    "top_fifty = count.most_common(50)\n",
    "\n",
    "# Initialize empty dictionary\n",
    "count_dict = {}\n",
    "\n",
    "# Convert count to dictionary in reverse order to later facilitate the dot plot creation\n",
    "for entry in top_fifty[::-1]:\n",
    "    word = entry[0]\n",
    "    word_count = entry[1]\n",
    "    count_dict[word] = word_count"
   ]
  },
  {
   "cell_type": "code",
   "execution_count": 9,
   "metadata": {},
   "outputs": [
    {
     "name": "stdout",
     "output_type": "stream",
     "text": [
      "Lower bound: 192\n",
      "Upper bound: 2050\n"
     ]
    }
   ],
   "source": [
    "# Calculate a lower and upper bound for the dot plot\n",
    "lower_bound = count_dict[top_fifty[-1][0]]\n",
    "upper_bound = count_dict[top_fifty[0][0]]\n",
    "\n",
    "print(\"Lower bound: {}\".format(lower_bound))\n",
    "print(\"Upper bound: {}\".format(upper_bound))"
   ]
  },
  {
   "cell_type": "code",
   "execution_count": 10,
   "metadata": {},
   "outputs": [
    {
     "data": {
      "image/png": "[encoded data removed]",
      "text/plain": [
       "<Figure size 720x1080 with 1 Axes>"
      ]
     },
     "metadata": {
      "needs_background": "light"
     },
     "output_type": "display_data"
    }
   ],
   "source": [
    "plt.rcParams.update({'font.size': 10,\n",
    "                     'font.family': 'sans serif',\n",
    "                     'axes.titlesize': 20})\n",
    "\n",
    "# Create a figure containing one subplot\n",
    "fig, ax = plt.subplots(figsize=(10,15))\n",
    "\n",
    "# Creat the plot passing the values along with the keys\n",
    "_ = ax.plot(count_dict.values(), count_dict.keys(), 'o')\n",
    "\n",
    "# Set x-limit to start at almost the lower bound and end at almost the upper bound\n",
    "_ = ax.set_xlim(left=lower_bound-30, right=upper_bound+30)\n",
    "\n",
    "# Set y-limit to enhance display\n",
    "_ = ax.set_ylim(-1, 50)\n",
    "\n",
    "# Show grid\n",
    "_ = ax.grid(True)\n",
    "\n",
    "# Set the xticks range\n",
    "_ = ax.set_xticks(range(200,2110,100))\n",
    "\n",
    "# Set title\n",
    "_ = ax.set_title(\"Word Frequency in American Gods by Neil Gaiman\")\n",
    "\n",
    "# Set ytitle\n",
    "_ = ax.set_ylabel(\"Top 50 words of the novel\")\n",
    "\n",
    "# Set xtitle\n",
    "_ = ax.set_xlabel(\"Number of occurrences\")\n",
    "ax.xaxis.set_label_coords(0.5, -0.05)"
   ]
  }
 ],
 "metadata": {
  "kernelspec": {
   "display_name": "Python 3",
   "language": "python",
   "name": "python3"
  },
  "language_info": {
   "codemirror_mode": {
    "name": "ipython",
    "version": 3
   },
   "file_extension": ".py",
   "mimetype": "text/x-python",
   "name": "python",
   "nbconvert_exporter": "python",
   "pygments_lexer": "ipython3",
   "version": "3.8.8"
  }
 },
 "nbformat": 4,
 "nbformat_minor": 4
}
